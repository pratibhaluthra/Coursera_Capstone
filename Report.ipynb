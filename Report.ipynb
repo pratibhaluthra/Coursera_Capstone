{
 "cells": [
  {
   "cell_type": "markdown",
   "metadata": {},
   "source": [
    "## Predicting Neighborhood to open a Restaurant in Chicago, Illinois\n",
    "\n",
    "\n",
    "\n",
    "### 1.\tINTRODUCTION\n",
    "\n",
    "##### 1.1\tProblem:\n",
    "Location plays a major role in the success of any restaurant. Therefore, a preliminary market analysis will help in determining a favorable location for the new restaurant. Factors like its neighborhood, or surrounded by the same cuisine restaurant, or have easy access to transportation, will affect sales. This project uses location data of Chicago to find out popular eateries present in its neighborhood and then to predict which neighborhood will be the best to open a restaurant.\n",
    "\n",
    "### 2.\tDATA ACCUSITION AND CLEANING\n",
    "       \n",
    "##### 2.1\tData Sources:\n",
    "The Dataset used for getting zip codes for the state of Illinois is taken from this HTML webpage https://www.zipcodestogo.com/ZIP-Codes-by-City.htm where we searched for Chicago. It looks like this:\n",
    " \n",
    "https://github.com/pratibhaluthra/Coursera_Capstone/blob/master/data%20set.png \n",
    "\n",
    "To obtain latitude and longitudes of grouped cities Geopy Library of Python will be used. Further, we will use Foursquare API to get coordinates of restaurants located near Cities/Boroughs based on their type of Cuisine. \n"
   ]
  }
 ],
 "metadata": {
  "kernelspec": {
   "display_name": "Python",
   "language": "python",
   "name": "conda-env-python-py"
  },
  "language_info": {
   "codemirror_mode": {
    "name": "ipython",
    "version": 3
   },
   "file_extension": ".py",
   "mimetype": "text/x-python",
   "name": "python",
   "nbconvert_exporter": "python",
   "pygments_lexer": "ipython3",
   "version": "3.6.10"
  }
 },
 "nbformat": 4,
 "nbformat_minor": 4
}
